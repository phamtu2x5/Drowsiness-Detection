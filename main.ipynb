{
 "cells": [
  {
   "cell_type": "code",
   "execution_count": 1,
   "id": "24c62298",
   "metadata": {
    "executionInfo": {
     "elapsed": 22,
     "status": "ok",
     "timestamp": 1753030561439,
     "user": {
      "displayName": "Phạm Văn Tư",
      "userId": "08063538848897588681"
     },
     "user_tz": -420
    },
    "id": "24c62298"
   },
   "outputs": [],
   "source": [
    "import os\n",
    "os.environ[\"KMP_DUPLICATE_LIB_OK\"] = \"TRUE\""
   ]
  },
  {
   "cell_type": "code",
   "execution_count": 2,
   "id": "c0610180",
   "metadata": {
    "id": "c0610180"
   },
   "outputs": [
    {
     "name": "stdout",
     "output_type": "stream",
     "text": [
      "Requirement already satisfied: ultralytics in /opt/miniconda3/envs/myenv/lib/python3.12/site-packages (8.3.167)\n",
      "Requirement already satisfied: numpy>=1.23.0 in /opt/miniconda3/envs/myenv/lib/python3.12/site-packages (from ultralytics) (2.0.1)\n",
      "Requirement already satisfied: matplotlib>=3.3.0 in /opt/miniconda3/envs/myenv/lib/python3.12/site-packages (from ultralytics) (3.10.0)\n",
      "Requirement already satisfied: opencv-python>=4.6.0 in /opt/miniconda3/envs/myenv/lib/python3.12/site-packages (from ultralytics) (4.12.0.88)\n",
      "Requirement already satisfied: pillow>=7.1.2 in /opt/miniconda3/envs/myenv/lib/python3.12/site-packages (from ultralytics) (11.1.0)\n",
      "Requirement already satisfied: pyyaml>=5.3.1 in /opt/miniconda3/envs/myenv/lib/python3.12/site-packages (from ultralytics) (6.0.2)\n",
      "Requirement already satisfied: requests>=2.23.0 in /opt/miniconda3/envs/myenv/lib/python3.12/site-packages (from ultralytics) (2.32.4)\n",
      "Requirement already satisfied: scipy>=1.4.1 in /opt/miniconda3/envs/myenv/lib/python3.12/site-packages (from ultralytics) (1.16.0)\n",
      "Requirement already satisfied: torch>=1.8.0 in /opt/miniconda3/envs/myenv/lib/python3.12/site-packages (from ultralytics) (2.5.1)\n",
      "Requirement already satisfied: torchvision>=0.9.0 in /opt/miniconda3/envs/myenv/lib/python3.12/site-packages (from ultralytics) (0.20.1)\n",
      "Requirement already satisfied: tqdm>=4.64.0 in /opt/miniconda3/envs/myenv/lib/python3.12/site-packages (from ultralytics) (4.67.1)\n",
      "Requirement already satisfied: psutil in /opt/miniconda3/envs/myenv/lib/python3.12/site-packages (from ultralytics) (5.9.0)\n",
      "Requirement already satisfied: py-cpuinfo in /opt/miniconda3/envs/myenv/lib/python3.12/site-packages (from ultralytics) (9.0.0)\n",
      "Requirement already satisfied: pandas>=1.1.4 in /opt/miniconda3/envs/myenv/lib/python3.12/site-packages (from ultralytics) (2.2.3)\n",
      "Requirement already satisfied: ultralytics-thop>=2.0.0 in /opt/miniconda3/envs/myenv/lib/python3.12/site-packages (from ultralytics) (2.0.14)\n",
      "Requirement already satisfied: contourpy>=1.0.1 in /opt/miniconda3/envs/myenv/lib/python3.12/site-packages (from matplotlib>=3.3.0->ultralytics) (1.3.1)\n",
      "Requirement already satisfied: cycler>=0.10 in /opt/miniconda3/envs/myenv/lib/python3.12/site-packages (from matplotlib>=3.3.0->ultralytics) (0.11.0)\n",
      "Requirement already satisfied: fonttools>=4.22.0 in /opt/miniconda3/envs/myenv/lib/python3.12/site-packages (from matplotlib>=3.3.0->ultralytics) (4.55.3)\n",
      "Requirement already satisfied: kiwisolver>=1.3.1 in /opt/miniconda3/envs/myenv/lib/python3.12/site-packages (from matplotlib>=3.3.0->ultralytics) (1.4.8)\n",
      "Requirement already satisfied: packaging>=20.0 in /opt/miniconda3/envs/myenv/lib/python3.12/site-packages (from matplotlib>=3.3.0->ultralytics) (24.2)\n",
      "Requirement already satisfied: pyparsing>=2.3.1 in /opt/miniconda3/envs/myenv/lib/python3.12/site-packages (from matplotlib>=3.3.0->ultralytics) (3.2.0)\n",
      "Requirement already satisfied: python-dateutil>=2.7 in /opt/miniconda3/envs/myenv/lib/python3.12/site-packages (from matplotlib>=3.3.0->ultralytics) (2.9.0.post0)\n",
      "Requirement already satisfied: pytz>=2020.1 in /opt/miniconda3/envs/myenv/lib/python3.12/site-packages (from pandas>=1.1.4->ultralytics) (2024.1)\n",
      "Requirement already satisfied: tzdata>=2022.7 in /opt/miniconda3/envs/myenv/lib/python3.12/site-packages (from pandas>=1.1.4->ultralytics) (2023.3)\n",
      "Requirement already satisfied: charset_normalizer<4,>=2 in /opt/miniconda3/envs/myenv/lib/python3.12/site-packages (from requests>=2.23.0->ultralytics) (3.3.2)\n",
      "Requirement already satisfied: idna<4,>=2.5 in /opt/miniconda3/envs/myenv/lib/python3.12/site-packages (from requests>=2.23.0->ultralytics) (3.7)\n",
      "Requirement already satisfied: urllib3<3,>=1.21.1 in /opt/miniconda3/envs/myenv/lib/python3.12/site-packages (from requests>=2.23.0->ultralytics) (2.5.0)\n",
      "Requirement already satisfied: certifi>=2017.4.17 in /opt/miniconda3/envs/myenv/lib/python3.12/site-packages (from requests>=2.23.0->ultralytics) (2025.6.15)\n",
      "Requirement already satisfied: filelock in /opt/miniconda3/envs/myenv/lib/python3.12/site-packages (from torch>=1.8.0->ultralytics) (3.17.0)\n",
      "Requirement already satisfied: typing-extensions>=4.8.0 in /opt/miniconda3/envs/myenv/lib/python3.12/site-packages (from torch>=1.8.0->ultralytics) (4.12.2)\n",
      "Requirement already satisfied: setuptools in /opt/miniconda3/envs/myenv/lib/python3.12/site-packages (from torch>=1.8.0->ultralytics) (75.8.0)\n",
      "Requirement already satisfied: sympy==1.13.1 in /opt/miniconda3/envs/myenv/lib/python3.12/site-packages (from torch>=1.8.0->ultralytics) (1.13.1)\n",
      "Requirement already satisfied: networkx in /opt/miniconda3/envs/myenv/lib/python3.12/site-packages (from torch>=1.8.0->ultralytics) (3.4.2)\n",
      "Requirement already satisfied: jinja2 in /opt/miniconda3/envs/myenv/lib/python3.12/site-packages (from torch>=1.8.0->ultralytics) (3.1.6)\n",
      "Requirement already satisfied: fsspec in /opt/miniconda3/envs/myenv/lib/python3.12/site-packages (from torch>=1.8.0->ultralytics) (2025.7.0)\n",
      "Requirement already satisfied: mpmath<1.4,>=1.1.0 in /opt/miniconda3/envs/myenv/lib/python3.12/site-packages (from sympy==1.13.1->torch>=1.8.0->ultralytics) (1.3.0)\n",
      "Requirement already satisfied: six>=1.5 in /opt/miniconda3/envs/myenv/lib/python3.12/site-packages (from python-dateutil>=2.7->matplotlib>=3.3.0->ultralytics) (1.17.0)\n",
      "Requirement already satisfied: MarkupSafe>=2.0 in /opt/miniconda3/envs/myenv/lib/python3.12/site-packages (from jinja2->torch>=1.8.0->ultralytics) (3.0.2)\n",
      "Note: you may need to restart the kernel to use updated packages.\n"
     ]
    }
   ],
   "source": [
    "%pip install ultralytics"
   ]
  },
  {
   "cell_type": "markdown",
   "id": "temCiTFQ8AY5",
   "metadata": {
    "id": "temCiTFQ8AY5"
   },
   "source": [
    "# Import Lib"
   ]
  },
  {
   "cell_type": "code",
   "execution_count": 3,
   "id": "abbbfa71",
   "metadata": {
    "executionInfo": {
     "elapsed": 5428,
     "status": "ok",
     "timestamp": 1753031171640,
     "user": {
      "displayName": "Phạm Văn Tư",
      "userId": "08063538848897588681"
     },
     "user_tz": -420
    },
    "id": "abbbfa71"
   },
   "outputs": [],
   "source": [
    "import torch\n",
    "from matplotlib import pyplot as plt\n",
    "import numpy as np\n",
    "import cv2"
   ]
  },
  {
   "cell_type": "markdown",
   "id": "8a29ea67",
   "metadata": {
    "id": "8a29ea67"
   },
   "source": [
    "# Train Custom Server\n"
   ]
  },
  {
   "cell_type": "code",
   "execution_count": 4,
   "id": "7a33b61b",
   "metadata": {
    "executionInfo": {
     "elapsed": 25,
     "status": "ok",
     "timestamp": 1753031171657,
     "user": {
      "displayName": "Phạm Văn Tư",
      "userId": "08063538848897588681"
     },
     "user_tz": -420
    },
    "id": "7a33b61b"
   },
   "outputs": [],
   "source": [
    "import uuid\n",
    "import time"
   ]
  },
  {
   "cell_type": "code",
   "execution_count": 6,
   "id": "968925df",
   "metadata": {
    "executionInfo": {
     "elapsed": 13,
     "status": "ok",
     "timestamp": 1753031171669,
     "user": {
      "displayName": "Phạm Văn Tư",
      "userId": "08063538848897588681"
     },
     "user_tz": -420
    },
    "id": "968925df"
   },
   "outputs": [],
   "source": [
    "IMAGE_PATH=os.path.join('data','images')\n",
    "labels=['awake','drowsy']\n",
    "number_imgs=20"
   ]
  },
  {
   "cell_type": "markdown",
   "id": "s9TUe8R18FKo",
   "metadata": {
    "id": "s9TUe8R18FKo"
   },
   "source": [
    "# Colect Dataset"
   ]
  },
  {
   "cell_type": "code",
   "execution_count": null,
   "id": "8176c284",
   "metadata": {
    "id": "8176c284"
   },
   "outputs": [],
   "source": [
    "cap=cv2.VideoCapture(0)\n",
    "for label in labels:\n",
    "    print('Collecting images for {}'.format(label))\n",
    "    time.sleep(5)\n",
    "\n",
    "    for img_num in range(number_imgs):\n",
    "        print('Collecting images for {} number {}'.format(label,img_num))\n",
    "        ret,frame=cap.read()\n",
    "        imgname=os.path.join(IMAGE_PATH,label+'.'+str(uuid.uuid1())+'.jpg')\n",
    "        cv2.imwrite(imgname,frame)\n",
    "        cv2.imshow('IMAGE COLLECTION',frame)\n",
    "        time.sleep(2)\n",
    "        if cv2.waitKey(10) & 0xFF==ord('q'):\n",
    "            break\n",
    "cap.release()\n",
    "cv2.destroyAllWindows()"
   ]
  },
  {
   "cell_type": "code",
   "execution_count": 9,
   "id": "a7ee2e57",
   "metadata": {
    "id": "a7ee2e57"
   },
   "outputs": [
    {
     "name": "stdout",
     "output_type": "stream",
     "text": [
      "fatal: destination path 'labelImg' already exists and is not an empty directory.\n"
     ]
    }
   ],
   "source": [
    "!git clone https://github.com/HumanSignal/labelImg"
   ]
  },
  {
   "cell_type": "code",
   "execution_count": 10,
   "id": "132bb28e",
   "metadata": {
    "id": "132bb28e"
   },
   "outputs": [
    {
     "name": "stdout",
     "output_type": "stream",
     "text": [
      "Requirement already satisfied: pyqt5 in /opt/miniconda3/envs/myenv/lib/python3.12/site-packages (5.15.11)\n",
      "Requirement already satisfied: lxml in /opt/miniconda3/envs/myenv/lib/python3.12/site-packages (6.0.0)\n",
      "Requirement already satisfied: PyQt5-sip<13,>=12.15 in /opt/miniconda3/envs/myenv/lib/python3.12/site-packages (from pyqt5) (12.17.0)\n",
      "Requirement already satisfied: PyQt5-Qt5<5.16.0,>=5.15.2 in /opt/miniconda3/envs/myenv/lib/python3.12/site-packages (from pyqt5) (5.15.17)\n",
      "Note: you may need to restart the kernel to use updated packages.\n"
     ]
    }
   ],
   "source": [
    "%pip install pyqt5 lxml --upgrade\n",
    "!cd labelImg && pyrcc5 -o libs/resources.py resources.qrc"
   ]
  },
  {
   "cell_type": "code",
   "execution_count": 7,
   "id": "cea31752",
   "metadata": {
    "colab": {
     "base_uri": "https://localhost:8080/"
    },
    "executionInfo": {
     "elapsed": 100,
     "status": "ok",
     "timestamp": 1753031171759,
     "user": {
      "displayName": "Phạm Văn Tư",
      "userId": "08063538848897588681"
     },
     "user_tz": -420
    },
    "id": "cea31752",
    "outputId": "597be685-c0bb-4739-b863-b77644882452"
   },
   "outputs": [
    {
     "name": "stdout",
     "output_type": "stream",
     "text": [
      "False\n"
     ]
    }
   ],
   "source": [
    "import torch\n",
    "print(torch.cuda.is_available())"
   ]
  },
  {
   "cell_type": "markdown",
   "id": "Kjw3GzUA8IbW",
   "metadata": {
    "id": "Kjw3GzUA8IbW"
   },
   "source": [
    "# Train Model"
   ]
  },
  {
   "cell_type": "code",
   "execution_count": null,
   "id": "b45210c8",
   "metadata": {
    "colab": {
     "base_uri": "https://localhost:8080/"
    },
    "executionInfo": {
     "elapsed": 767834,
     "status": "ok",
     "timestamp": 1753033941698,
     "user": {
      "displayName": "Phạm Văn Tư",
      "userId": "08063538848897588681"
     },
     "user_tz": -420
    },
    "id": "b45210c8",
    "outputId": "9b44e1d1-fa9e-4a03-956a-1ed1d6ce9512"
   },
   "outputs": [],
   "source": [
    "from ultralytics import YOLO\n",
    "model=YOLO('yolov8s.pt')\n",
    "model.train(\n",
    "    data='/content/drive/MyDrive/Drowsiness Detection/data.yaml',\n",
    "    epochs=40,\n",
    "    imgsz=640,\n",
    "    batch=32,\n",
    "    project='/content/drive/MyDrive/Drowsiness Detection/runs/train',\n",
    "    name='exp',\n",
    "    workers=4,\n",
    "    lr0=0.001,\n",
    "    optimizer='AdamW',\n",
    "    patience=10,\n",
    "    augment=True,\n",
    "    mosaic=0.7\n",
    ")"
   ]
  },
  {
   "cell_type": "markdown",
   "id": "c9f634ee",
   "metadata": {
    "id": "c9f634ee"
   },
   "source": [
    "# Load the model"
   ]
  },
  {
   "cell_type": "markdown",
   "id": "K-LHz5DE3Hyk",
   "metadata": {
    "id": "K-LHz5DE3Hyk"
   },
   "source": [
    "# Validation"
   ]
  },
  {
   "cell_type": "code",
   "execution_count": null,
   "id": "a7f3b13b",
   "metadata": {
    "colab": {
     "base_uri": "https://localhost:8080/"
    },
    "executionInfo": {
     "elapsed": 30988,
     "status": "ok",
     "timestamp": 1753034004752,
     "user": {
      "displayName": "Phạm Văn Tư",
      "userId": "08063538848897588681"
     },
     "user_tz": -420
    },
    "id": "a7f3b13b",
    "outputId": "7c04927c-c29a-450e-c299-a41342d778ca"
   },
   "outputs": [],
   "source": [
    "model=YOLO('runs/train/exp/weights/best.pt')\n",
    "metrics = model.val(\n",
    "    data='data.yaml',\n",
    "    split='test',\n",
    "    project='runs/val',\n",
    "    name='val_exp',\n",
    "    )\n",
    "print(metrics)"
   ]
  }
 ],
 "metadata": {
  "accelerator": "GPU",
  "colab": {
   "gpuType": "T4",
   "provenance": []
  },
  "kernelspec": {
   "display_name": "myenv",
   "language": "python",
   "name": "python3"
  },
  "language_info": {
   "codemirror_mode": {
    "name": "ipython",
    "version": 3
   },
   "file_extension": ".py",
   "mimetype": "text/x-python",
   "name": "python",
   "nbconvert_exporter": "python",
   "pygments_lexer": "ipython3",
   "version": "3.12.9"
  }
 },
 "nbformat": 4,
 "nbformat_minor": 5
}
