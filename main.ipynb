{
 "cells": [
  {
   "cell_type": "code",
   "execution_count": 1,
   "id": "24c62298",
   "metadata": {
    "executionInfo": {
     "elapsed": 22,
     "status": "ok",
     "timestamp": 1753030561439,
     "user": {
      "displayName": "Phạm Văn Tư",
      "userId": "08063538848897588681"
     },
     "user_tz": -420
    },
    "id": "24c62298"
   },
   "outputs": [],
   "source": [
    "import os\n",
    "os.environ[\"KMP_DUPLICATE_LIB_OK\"] = \"TRUE\""
   ]
  },
  {
   "cell_type": "code",
   "execution_count": null,
   "id": "c0610180",
   "metadata": {
    "id": "c0610180"
   },
   "outputs": [],
   "source": [
    "%pip install ultralytics"
   ]
  },
  {
   "cell_type": "markdown",
   "id": "temCiTFQ8AY5",
   "metadata": {
    "id": "temCiTFQ8AY5"
   },
   "source": [
    "# Import Lib"
   ]
  },
  {
   "cell_type": "code",
   "execution_count": 3,
   "id": "abbbfa71",
   "metadata": {
    "executionInfo": {
     "elapsed": 5428,
     "status": "ok",
     "timestamp": 1753031171640,
     "user": {
      "displayName": "Phạm Văn Tư",
      "userId": "08063538848897588681"
     },
     "user_tz": -420
    },
    "id": "abbbfa71"
   },
   "outputs": [],
   "source": [
    "import torch\n",
    "from matplotlib import pyplot as plt\n",
    "import numpy as np\n",
    "import cv2"
   ]
  },
  {
   "cell_type": "markdown",
   "id": "8a29ea67",
   "metadata": {
    "id": "8a29ea67"
   },
   "source": [
    "# Train Custom Server\n"
   ]
  },
  {
   "cell_type": "code",
   "execution_count": 4,
   "id": "7a33b61b",
   "metadata": {
    "executionInfo": {
     "elapsed": 25,
     "status": "ok",
     "timestamp": 1753031171657,
     "user": {
      "displayName": "Phạm Văn Tư",
      "userId": "08063538848897588681"
     },
     "user_tz": -420
    },
    "id": "7a33b61b"
   },
   "outputs": [],
   "source": [
    "import uuid\n",
    "import time"
   ]
  },
  {
   "cell_type": "code",
   "execution_count": 6,
   "id": "968925df",
   "metadata": {
    "executionInfo": {
     "elapsed": 13,
     "status": "ok",
     "timestamp": 1753031171669,
     "user": {
      "displayName": "Phạm Văn Tư",
      "userId": "08063538848897588681"
     },
     "user_tz": -420
    },
    "id": "968925df"
   },
   "outputs": [],
   "source": [
    "IMAGE_PATH=os.path.join('data','images')\n",
    "labels=['awake','drowsy']\n",
    "number_imgs=20"
   ]
  },
  {
   "cell_type": "markdown",
   "id": "s9TUe8R18FKo",
   "metadata": {
    "id": "s9TUe8R18FKo"
   },
   "source": [
    "# Colect Dataset"
   ]
  },
  {
   "cell_type": "code",
   "execution_count": null,
   "id": "8176c284",
   "metadata": {
    "id": "8176c284"
   },
   "outputs": [],
   "source": [
    "cap=cv2.VideoCapture(0)\n",
    "for label in labels:\n",
    "    print('Collecting images for {}'.format(label))\n",
    "    time.sleep(5)\n",
    "\n",
    "    for img_num in range(number_imgs):\n",
    "        print('Collecting images for {} number {}'.format(label,img_num))\n",
    "        ret,frame=cap.read()\n",
    "        imgname=os.path.join(IMAGE_PATH,label+'.'+str(uuid.uuid1())+'.jpg')\n",
    "        cv2.imwrite(imgname,frame)\n",
    "        cv2.imshow('IMAGE COLLECTION',frame)\n",
    "        time.sleep(2)\n",
    "        if cv2.waitKey(10) & 0xFF==ord('q'):\n",
    "            break\n",
    "cap.release()\n",
    "cv2.destroyAllWindows()"
   ]
  },
  {
   "cell_type": "code",
   "execution_count": 9,
   "id": "a7ee2e57",
   "metadata": {
    "id": "a7ee2e57"
   },
   "outputs": [
    {
     "name": "stdout",
     "output_type": "stream",
     "text": [
      "fatal: destination path 'labelImg' already exists and is not an empty directory.\n"
     ]
    }
   ],
   "source": [
    "!git clone https://github.com/HumanSignal/labelImg"
   ]
  },
  {
   "cell_type": "code",
   "execution_count": 10,
   "id": "132bb28e",
   "metadata": {
    "id": "132bb28e"
   },
   "outputs": [
    {
     "name": "stdout",
     "output_type": "stream",
     "text": [
      "Requirement already satisfied: pyqt5 in /opt/miniconda3/envs/myenv/lib/python3.12/site-packages (5.15.11)\n",
      "Requirement already satisfied: lxml in /opt/miniconda3/envs/myenv/lib/python3.12/site-packages (6.0.0)\n",
      "Requirement already satisfied: PyQt5-sip<13,>=12.15 in /opt/miniconda3/envs/myenv/lib/python3.12/site-packages (from pyqt5) (12.17.0)\n",
      "Requirement already satisfied: PyQt5-Qt5<5.16.0,>=5.15.2 in /opt/miniconda3/envs/myenv/lib/python3.12/site-packages (from pyqt5) (5.15.17)\n",
      "Note: you may need to restart the kernel to use updated packages.\n"
     ]
    }
   ],
   "source": [
    "%pip install pyqt5 lxml --upgrade\n",
    "!cd labelImg && pyrcc5 -o libs/resources.py resources.qrc"
   ]
  },
  {
   "cell_type": "code",
   "execution_count": 7,
   "id": "cea31752",
   "metadata": {
    "colab": {
     "base_uri": "https://localhost:8080/"
    },
    "executionInfo": {
     "elapsed": 100,
     "status": "ok",
     "timestamp": 1753031171759,
     "user": {
      "displayName": "Phạm Văn Tư",
      "userId": "08063538848897588681"
     },
     "user_tz": -420
    },
    "id": "cea31752",
    "outputId": "597be685-c0bb-4739-b863-b77644882452"
   },
   "outputs": [
    {
     "name": "stdout",
     "output_type": "stream",
     "text": [
      "False\n"
     ]
    }
   ],
   "source": [
    "import torch\n",
    "print(torch.cuda.is_available())"
   ]
  },
  {
   "cell_type": "markdown",
   "id": "Kjw3GzUA8IbW",
   "metadata": {
    "id": "Kjw3GzUA8IbW"
   },
   "source": [
    "# Train Model"
   ]
  },
  {
   "cell_type": "code",
   "execution_count": null,
   "id": "b45210c8",
   "metadata": {
    "colab": {
     "base_uri": "https://localhost:8080/"
    },
    "executionInfo": {
     "elapsed": 767834,
     "status": "ok",
     "timestamp": 1753033941698,
     "user": {
      "displayName": "Phạm Văn Tư",
      "userId": "08063538848897588681"
     },
     "user_tz": -420
    },
    "id": "b45210c8",
    "outputId": "9b44e1d1-fa9e-4a03-956a-1ed1d6ce9512"
   },
   "outputs": [],
   "source": [
    "from ultralytics import YOLO\n",
    "\n",
    "model = YOLO('yolov8m.pt')\n",
    "model.train(\n",
    "    data='data.yaml',\n",
    "    epochs=20,\n",
    "    imgsz=640,\n",
    "    batch=32,\n",
    "    project='runs/train',\n",
    "    name='exp_m_20',\n",
    "    workers=8,\n",
    "    lr0=0.001,\n",
    "    optimizer='AdamW',\n",
    "    patience=10,\n",
    "    augment=True,\n",
    "    degrees=10.0,\n",
    "    translate=0.1,\n",
    "    scale=0.2,\n",
    "    fliplr=0.5,\n",
    ")"
   ]
  }
 ],
 "metadata": {
  "accelerator": "GPU",
  "colab": {
   "gpuType": "T4",
   "provenance": []
  },
  "kernelspec": {
   "display_name": "myenv",
   "language": "python",
   "name": "python3"
  },
  "language_info": {
   "codemirror_mode": {
    "name": "ipython",
    "version": 3
   },
   "file_extension": ".py",
   "mimetype": "text/x-python",
   "name": "python",
   "nbconvert_exporter": "python",
   "pygments_lexer": "ipython3",
   "version": "3.12.9"
  }
 },
 "nbformat": 4,
 "nbformat_minor": 5
}
